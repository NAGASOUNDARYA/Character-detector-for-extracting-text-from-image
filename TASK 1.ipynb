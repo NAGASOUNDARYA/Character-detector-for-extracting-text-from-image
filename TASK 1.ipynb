{
 "cells": [
  {
   "cell_type": "markdown",
   "id": "7a6cf1ad",
   "metadata": {},
   "source": [
    "# The Sparks Foundation Task 1- _Character detector which extracts text_"
   ]
  },
  {
   "cell_type": "markdown",
   "id": "6d245744",
   "metadata": {},
   "source": [
    "# IOT and Computer Vision intern"
   ]
  },
  {
   "cell_type": "markdown",
   "id": "2e986acf",
   "metadata": {},
   "source": [
    "# Author : _Nagasoundarya.V_"
   ]
  },
  {
   "cell_type": "markdown",
   "id": "920de891",
   "metadata": {},
   "source": [
    "# _Importing required libraries_"
   ]
  },
  {
   "cell_type": "code",
   "execution_count": null,
   "id": "77f37737",
   "metadata": {},
   "outputs": [],
   "source": [
    "import pytesseract\n",
    "import cv2\n",
    "import matplotlib.pyplot as plt"
   ]
  },
  {
   "cell_type": "markdown",
   "id": "f3df5140",
   "metadata": {},
   "source": [
    "# _Reading image_ "
   ]
  },
  {
   "cell_type": "code",
   "execution_count": null,
   "id": "bb4351bc",
   "metadata": {},
   "outputs": [],
   "source": [
    "image = cv2.imread('C:\\\\images\\\\img.jpg')\n",
    "plt.imshow(image)"
   ]
  },
  {
   "cell_type": "markdown",
   "id": "7c994a6e",
   "metadata": {},
   "source": [
    "#  _Extracting text from image_"
   ]
  },
  {
   "cell_type": "code",
   "execution_count": null,
   "id": "b6801661",
   "metadata": {},
   "outputs": [],
   "source": [
    "pytesseract.pytesseract.tesseract_cmd = r'C:\\Program Files\\Tesseract-OCR\\tesseract.exe'\n",
    "print(pytesseract.image_to_string(r'C:\\\\images\\\\img.jpg'))"
   ]
  },
  {
   "cell_type": "markdown",
   "id": "5871b886",
   "metadata": {},
   "source": [
    "#  _Reading another image_"
   ]
  },
  {
   "cell_type": "code",
   "execution_count": null,
   "id": "e0d077f3",
   "metadata": {},
   "outputs": [],
   "source": [
    "image = cv2.imread('C:\\\\images\\\\handwriting.jpeg')\n",
    "plt.imshow(image)"
   ]
  },
  {
   "cell_type": "markdown",
   "id": "7d304c89",
   "metadata": {},
   "source": [
    "# _Extracting text from handwritten image_"
   ]
  },
  {
   "cell_type": "code",
   "execution_count": null,
   "id": "6747400d",
   "metadata": {},
   "outputs": [],
   "source": [
    "pytesseract.pytesseract.tesseract_cmd = r'C:\\Program Files\\Tesseract-OCR\\tesseract.exe'\n",
    "print(pytesseract.image_to_string(r'C:\\\\images\\\\handwriting.jpeg'))"
   ]
  }
 ],
 "metadata": {
  "kernelspec": {
   "display_name": "Python 3",
   "language": "python",
   "name": "python3"
  },
  "language_info": {
   "codemirror_mode": {
    "name": "ipython",
    "version": 3
   },
   "file_extension": ".py",
   "mimetype": "text/x-python",
   "name": "python",
   "nbconvert_exporter": "python",
   "pygments_lexer": "ipython3",
   "version": "3.8.8"
  }
 },
 "nbformat": 4,
 "nbformat_minor": 5
}
